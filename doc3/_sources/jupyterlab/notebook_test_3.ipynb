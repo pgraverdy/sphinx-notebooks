{
 "cells": [
  {
   "cell_type": "markdown",
   "id": "66d4c430-5b36-471c-9972-813b3f95211f",
   "metadata": {},
   "source": [
    "# Title for sphinx with book design/theme"
   ]
  },
  {
   "cell_type": "code",
   "execution_count": 1,
   "id": "21620596-8058-4911-8083-00c3e9ce0d7c",
   "metadata": {},
   "outputs": [
    {
     "name": "stdout",
     "output_type": "stream",
     "text": [
      "Hello\n"
     ]
    }
   ],
   "source": [
    "print (\"Hello\")"
   ]
  },
  {
   "cell_type": "markdown",
   "id": "94b85963-f7a1-45c4-8eb2-3f7de7c45c6b",
   "metadata": {},
   "source": [
    "Mork **markdown** test"
   ]
  },
  {
   "cell_type": "code",
   "execution_count": null,
   "id": "c03072bb-aa01-49cf-92d5-30ba05a169e4",
   "metadata": {},
   "outputs": [],
   "source": []
  }
 ],
 "metadata": {
  "kernelspec": {
   "display_name": "Python 3 (ipykernel)",
   "language": "python",
   "name": "python3"
  },
  "language_info": {
   "codemirror_mode": {
    "name": "ipython",
    "version": 3
   },
   "file_extension": ".py",
   "mimetype": "text/x-python",
   "name": "python",
   "nbconvert_exporter": "python",
   "pygments_lexer": "ipython3",
   "version": "3.12.3"
  }
 },
 "nbformat": 4,
 "nbformat_minor": 5
}
