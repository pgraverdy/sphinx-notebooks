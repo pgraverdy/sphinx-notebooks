{
 "cells": [
  {
   "cell_type": "markdown",
   "id": "d285596b-2409-4131-a46b-f544d8b14a06",
   "metadata": {},
   "source": [
    "# Required title for notebook"
   ]
  },
  {
   "cell_type": "code",
   "execution_count": 1,
   "id": "19746f30-ca53-47af-8cd8-fb1f7078a0eb",
   "metadata": {},
   "outputs": [
    {
     "name": "stdout",
     "output_type": "stream",
     "text": [
      "Hello World\n"
     ]
    }
   ],
   "source": [
    "print (\"Hello World\")"
   ]
  },
  {
   "cell_type": "code",
   "execution_count": null,
   "id": "be2fc827-acdd-4aa5-a210-6fcebaca313a",
   "metadata": {},
   "outputs": [],
   "source": []
  }
 ],
 "metadata": {
  "kernelspec": {
   "display_name": "Python 3 (ipykernel)",
   "language": "python",
   "name": "python3"
  },
  "language_info": {
   "codemirror_mode": {
    "name": "ipython",
    "version": 3
   },
   "file_extension": ".py",
   "mimetype": "text/x-python",
   "name": "python",
   "nbconvert_exporter": "python",
   "pygments_lexer": "ipython3",
   "version": "3.12.3"
  }
 },
 "nbformat": 4,
 "nbformat_minor": 5
}
